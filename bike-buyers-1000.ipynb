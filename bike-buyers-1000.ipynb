{
 "cells": [
  {
   "cell_type": "code",
   "execution_count": 1,
   "id": "d9554bbd",
   "metadata": {
    "_cell_guid": "b1076dfc-b9ad-4769-8c92-a6c4dae69d19",
    "_uuid": "8f2839f25d086af736a60e9eeb907d3b93b6e0e5",
    "execution": {
     "iopub.execute_input": "2022-08-26T17:33:16.628469Z",
     "iopub.status.busy": "2022-08-26T17:33:16.627947Z",
     "iopub.status.idle": "2022-08-26T17:33:16.652292Z",
     "shell.execute_reply": "2022-08-26T17:33:16.651140Z"
    },
    "papermill": {
     "duration": 0.037688,
     "end_time": "2022-08-26T17:33:16.655584",
     "exception": false,
     "start_time": "2022-08-26T17:33:16.617896",
     "status": "completed"
    },
    "tags": []
   },
   "outputs": [
    {
     "name": "stdout",
     "output_type": "stream",
     "text": [
      "/kaggle/input/bike-buyers/bike_buyers_clean.csv\n",
      "/kaggle/input/bike-buyers/bike_buyers.csv\n"
     ]
    }
   ],
   "source": [
    "# This Python 3 environment comes with many helpful analytics libraries installed\n",
    "# It is defined by the kaggle/python Docker image: https://github.com/kaggle/docker-python\n",
    "# For example, here's several helpful packages to load\n",
    "\n",
    "import numpy as np # linear algebra\n",
    "import pandas as pd # data processing, CSV file I/O (e.g. pd.read_csv)\n",
    "import matplotlib.pyplot as plt\n",
    "# Input data files are available in the read-only \"../input/\" directory\n",
    "# For example, running this (by clicking run or pressing Shift+Enter) will list all files under the input directory\n",
    "\n",
    "import os\n",
    "for dirname, _, filenames in os.walk('/kaggle/input'):\n",
    "    for filename in filenames:\n",
    "        print(os.path.join(dirname, filename))\n",
    "\n",
    "# You can write up to 20GB to the current directory (/kaggle/working/) that gets preserved as output when you create a version using \"Save & Run All\" \n",
    "# You can also write temporary files to /kaggle/temp/, but they won't be saved outside of the current session"
   ]
  },
  {
   "cell_type": "code",
   "execution_count": 2,
   "id": "090caef9",
   "metadata": {
    "execution": {
     "iopub.execute_input": "2022-08-26T17:33:16.672107Z",
     "iopub.status.busy": "2022-08-26T17:33:16.671067Z",
     "iopub.status.idle": "2022-08-26T17:33:16.719219Z",
     "shell.execute_reply": "2022-08-26T17:33:16.717882Z"
    },
    "papermill": {
     "duration": 0.059302,
     "end_time": "2022-08-26T17:33:16.722082",
     "exception": false,
     "start_time": "2022-08-26T17:33:16.662780",
     "status": "completed"
    },
    "tags": []
   },
   "outputs": [
    {
     "data": {
      "text/html": [
       "<div>\n",
       "<style scoped>\n",
       "    .dataframe tbody tr th:only-of-type {\n",
       "        vertical-align: middle;\n",
       "    }\n",
       "\n",
       "    .dataframe tbody tr th {\n",
       "        vertical-align: top;\n",
       "    }\n",
       "\n",
       "    .dataframe thead th {\n",
       "        text-align: right;\n",
       "    }\n",
       "</style>\n",
       "<table border=\"1\" class=\"dataframe\">\n",
       "  <thead>\n",
       "    <tr style=\"text-align: right;\">\n",
       "      <th></th>\n",
       "      <th>ID</th>\n",
       "      <th>Marital Status</th>\n",
       "      <th>Gender</th>\n",
       "      <th>Income</th>\n",
       "      <th>Children</th>\n",
       "      <th>Education</th>\n",
       "      <th>Occupation</th>\n",
       "      <th>Home Owner</th>\n",
       "      <th>Cars</th>\n",
       "      <th>Commute Distance</th>\n",
       "      <th>Region</th>\n",
       "      <th>Age</th>\n",
       "      <th>Purchased Bike</th>\n",
       "    </tr>\n",
       "  </thead>\n",
       "  <tbody>\n",
       "    <tr>\n",
       "      <th>0</th>\n",
       "      <td>12496</td>\n",
       "      <td>Married</td>\n",
       "      <td>Female</td>\n",
       "      <td>40000.0</td>\n",
       "      <td>1.0</td>\n",
       "      <td>Bachelors</td>\n",
       "      <td>Skilled Manual</td>\n",
       "      <td>Yes</td>\n",
       "      <td>0.0</td>\n",
       "      <td>0-1 Miles</td>\n",
       "      <td>Europe</td>\n",
       "      <td>42.0</td>\n",
       "      <td>No</td>\n",
       "    </tr>\n",
       "    <tr>\n",
       "      <th>1</th>\n",
       "      <td>24107</td>\n",
       "      <td>Married</td>\n",
       "      <td>Male</td>\n",
       "      <td>30000.0</td>\n",
       "      <td>3.0</td>\n",
       "      <td>Partial College</td>\n",
       "      <td>Clerical</td>\n",
       "      <td>Yes</td>\n",
       "      <td>1.0</td>\n",
       "      <td>0-1 Miles</td>\n",
       "      <td>Europe</td>\n",
       "      <td>43.0</td>\n",
       "      <td>No</td>\n",
       "    </tr>\n",
       "    <tr>\n",
       "      <th>2</th>\n",
       "      <td>14177</td>\n",
       "      <td>Married</td>\n",
       "      <td>Male</td>\n",
       "      <td>80000.0</td>\n",
       "      <td>5.0</td>\n",
       "      <td>Partial College</td>\n",
       "      <td>Professional</td>\n",
       "      <td>No</td>\n",
       "      <td>2.0</td>\n",
       "      <td>2-5 Miles</td>\n",
       "      <td>Europe</td>\n",
       "      <td>60.0</td>\n",
       "      <td>No</td>\n",
       "    </tr>\n",
       "    <tr>\n",
       "      <th>3</th>\n",
       "      <td>24381</td>\n",
       "      <td>Single</td>\n",
       "      <td>NaN</td>\n",
       "      <td>70000.0</td>\n",
       "      <td>0.0</td>\n",
       "      <td>Bachelors</td>\n",
       "      <td>Professional</td>\n",
       "      <td>Yes</td>\n",
       "      <td>1.0</td>\n",
       "      <td>5-10 Miles</td>\n",
       "      <td>Pacific</td>\n",
       "      <td>41.0</td>\n",
       "      <td>Yes</td>\n",
       "    </tr>\n",
       "    <tr>\n",
       "      <th>4</th>\n",
       "      <td>25597</td>\n",
       "      <td>Single</td>\n",
       "      <td>Male</td>\n",
       "      <td>30000.0</td>\n",
       "      <td>0.0</td>\n",
       "      <td>Bachelors</td>\n",
       "      <td>Clerical</td>\n",
       "      <td>No</td>\n",
       "      <td>0.0</td>\n",
       "      <td>0-1 Miles</td>\n",
       "      <td>Europe</td>\n",
       "      <td>36.0</td>\n",
       "      <td>Yes</td>\n",
       "    </tr>\n",
       "  </tbody>\n",
       "</table>\n",
       "</div>"
      ],
      "text/plain": [
       "      ID Marital Status  Gender   Income  Children        Education  \\\n",
       "0  12496        Married  Female  40000.0       1.0        Bachelors   \n",
       "1  24107        Married    Male  30000.0       3.0  Partial College   \n",
       "2  14177        Married    Male  80000.0       5.0  Partial College   \n",
       "3  24381         Single     NaN  70000.0       0.0        Bachelors   \n",
       "4  25597         Single    Male  30000.0       0.0        Bachelors   \n",
       "\n",
       "       Occupation Home Owner  Cars Commute Distance   Region   Age  \\\n",
       "0  Skilled Manual        Yes   0.0        0-1 Miles   Europe  42.0   \n",
       "1        Clerical        Yes   1.0        0-1 Miles   Europe  43.0   \n",
       "2    Professional         No   2.0        2-5 Miles   Europe  60.0   \n",
       "3    Professional        Yes   1.0       5-10 Miles  Pacific  41.0   \n",
       "4        Clerical         No   0.0        0-1 Miles   Europe  36.0   \n",
       "\n",
       "  Purchased Bike  \n",
       "0             No  \n",
       "1             No  \n",
       "2             No  \n",
       "3            Yes  \n",
       "4            Yes  "
      ]
     },
     "execution_count": 2,
     "metadata": {},
     "output_type": "execute_result"
    }
   ],
   "source": [
    "bikeBuyers= pd.read_csv(\"../input/bike-buyers/bike_buyers.csv\")\n",
    "bikeBuyers.head()"
   ]
  },
  {
   "cell_type": "code",
   "execution_count": 3,
   "id": "1fd1a65b",
   "metadata": {
    "execution": {
     "iopub.execute_input": "2022-08-26T17:33:16.739805Z",
     "iopub.status.busy": "2022-08-26T17:33:16.738828Z",
     "iopub.status.idle": "2022-08-26T17:33:16.747847Z",
     "shell.execute_reply": "2022-08-26T17:33:16.746095Z"
    },
    "papermill": {
     "duration": 0.020518,
     "end_time": "2022-08-26T17:33:16.750203",
     "exception": false,
     "start_time": "2022-08-26T17:33:16.729685",
     "status": "completed"
    },
    "tags": []
   },
   "outputs": [
    {
     "data": {
      "text/plain": [
       "(1000, 13)"
      ]
     },
     "execution_count": 3,
     "metadata": {},
     "output_type": "execute_result"
    }
   ],
   "source": [
    "bikeBuyers.shape"
   ]
  },
  {
   "cell_type": "code",
   "execution_count": 4,
   "id": "fd7138b0",
   "metadata": {
    "execution": {
     "iopub.execute_input": "2022-08-26T17:33:16.765632Z",
     "iopub.status.busy": "2022-08-26T17:33:16.764465Z",
     "iopub.status.idle": "2022-08-26T17:33:16.799165Z",
     "shell.execute_reply": "2022-08-26T17:33:16.797239Z"
    },
    "papermill": {
     "duration": 0.046142,
     "end_time": "2022-08-26T17:33:16.802967",
     "exception": false,
     "start_time": "2022-08-26T17:33:16.756825",
     "status": "completed"
    },
    "tags": []
   },
   "outputs": [
    {
     "name": "stdout",
     "output_type": "stream",
     "text": [
      "<class 'pandas.core.frame.DataFrame'>\n",
      "RangeIndex: 1000 entries, 0 to 999\n",
      "Data columns (total 13 columns):\n",
      " #   Column            Non-Null Count  Dtype  \n",
      "---  ------            --------------  -----  \n",
      " 0   ID                1000 non-null   int64  \n",
      " 1   Marital Status    993 non-null    object \n",
      " 2   Gender            989 non-null    object \n",
      " 3   Income            994 non-null    float64\n",
      " 4   Children          992 non-null    float64\n",
      " 5   Education         1000 non-null   object \n",
      " 6   Occupation        1000 non-null   object \n",
      " 7   Home Owner        996 non-null    object \n",
      " 8   Cars              991 non-null    float64\n",
      " 9   Commute Distance  1000 non-null   object \n",
      " 10  Region            1000 non-null   object \n",
      " 11  Age               992 non-null    float64\n",
      " 12  Purchased Bike    1000 non-null   object \n",
      "dtypes: float64(4), int64(1), object(8)\n",
      "memory usage: 101.7+ KB\n"
     ]
    }
   ],
   "source": [
    "bikeBuyers.info()"
   ]
  },
  {
   "cell_type": "markdown",
   "id": "af00afe9",
   "metadata": {
    "papermill": {
     "duration": 0.00746,
     "end_time": "2022-08-26T17:33:16.818072",
     "exception": false,
     "start_time": "2022-08-26T17:33:16.810612",
     "status": "completed"
    },
    "tags": []
   },
   "source": [
    "# Missing Values"
   ]
  },
  {
   "cell_type": "code",
   "execution_count": 5,
   "id": "3f6e4b83",
   "metadata": {
    "execution": {
     "iopub.execute_input": "2022-08-26T17:33:16.834149Z",
     "iopub.status.busy": "2022-08-26T17:33:16.833688Z",
     "iopub.status.idle": "2022-08-26T17:33:16.845949Z",
     "shell.execute_reply": "2022-08-26T17:33:16.844407Z"
    },
    "papermill": {
     "duration": 0.023301,
     "end_time": "2022-08-26T17:33:16.848536",
     "exception": false,
     "start_time": "2022-08-26T17:33:16.825235",
     "status": "completed"
    },
    "tags": []
   },
   "outputs": [
    {
     "name": "stdout",
     "output_type": "stream",
     "text": [
      "ID                   0\n",
      "Marital Status       7\n",
      "Gender              11\n",
      "Income               6\n",
      "Children             8\n",
      "Education            0\n",
      "Occupation           0\n",
      "Home Owner           4\n",
      "Cars                 9\n",
      "Commute Distance     0\n",
      "Region               0\n",
      "Age                  8\n",
      "Purchased Bike       0\n",
      "dtype: int64\n"
     ]
    }
   ],
   "source": [
    "missingValues=bikeBuyers.isna().sum()\n",
    "print(missingValues)"
   ]
  },
  {
   "cell_type": "code",
   "execution_count": 6,
   "id": "db3847d8",
   "metadata": {
    "execution": {
     "iopub.execute_input": "2022-08-26T17:33:16.864150Z",
     "iopub.status.busy": "2022-08-26T17:33:16.863729Z",
     "iopub.status.idle": "2022-08-26T17:33:16.870239Z",
     "shell.execute_reply": "2022-08-26T17:33:16.869339Z"
    },
    "papermill": {
     "duration": 0.016945,
     "end_time": "2022-08-26T17:33:16.872306",
     "exception": false,
     "start_time": "2022-08-26T17:33:16.855361",
     "status": "completed"
    },
    "tags": []
   },
   "outputs": [
    {
     "name": "stdout",
     "output_type": "stream",
     "text": [
      "0.41 %\n"
     ]
    }
   ],
   "source": [
    "total_cells= np.product(bikeBuyers.shape)\n",
    "total_missing=missingValues.sum()\n",
    "#percentage of missing values\n",
    "percent=round((total_missing/total_cells)*100,2)\n",
    "print (percent,'%')"
   ]
  },
  {
   "cell_type": "code",
   "execution_count": 7,
   "id": "84dae585",
   "metadata": {
    "execution": {
     "iopub.execute_input": "2022-08-26T17:33:16.887807Z",
     "iopub.status.busy": "2022-08-26T17:33:16.887077Z",
     "iopub.status.idle": "2022-08-26T17:33:16.898375Z",
     "shell.execute_reply": "2022-08-26T17:33:16.895469Z"
    },
    "papermill": {
     "duration": 0.023146,
     "end_time": "2022-08-26T17:33:16.902057",
     "exception": false,
     "start_time": "2022-08-26T17:33:16.878911",
     "status": "completed"
    },
    "tags": []
   },
   "outputs": [
    {
     "data": {
      "text/plain": [
       "ID                  0.0\n",
       "Marital Status      0.7\n",
       "Gender              1.1\n",
       "Income              0.6\n",
       "Children            0.8\n",
       "Education           0.0\n",
       "Occupation          0.0\n",
       "Home Owner          0.4\n",
       "Cars                0.9\n",
       "Commute Distance    0.0\n",
       "Region              0.0\n",
       "Age                 0.8\n",
       "Purchased Bike      0.0\n",
       "dtype: float64"
      ]
     },
     "execution_count": 7,
     "metadata": {},
     "output_type": "execute_result"
    }
   ],
   "source": [
    "#now we will calculate the percentage of missing values for each column\n",
    "round((missingValues/len(bikeBuyers.index))*100,2)"
   ]
  },
  {
   "cell_type": "code",
   "execution_count": 8,
   "id": "0ddba763",
   "metadata": {
    "execution": {
     "iopub.execute_input": "2022-08-26T17:33:16.926889Z",
     "iopub.status.busy": "2022-08-26T17:33:16.925980Z",
     "iopub.status.idle": "2022-08-26T17:33:16.961783Z",
     "shell.execute_reply": "2022-08-26T17:33:16.960400Z"
    },
    "papermill": {
     "duration": 0.051864,
     "end_time": "2022-08-26T17:33:16.964985",
     "exception": false,
     "start_time": "2022-08-26T17:33:16.913121",
     "status": "completed"
    },
    "tags": []
   },
   "outputs": [
    {
     "data": {
      "text/html": [
       "<div>\n",
       "<style scoped>\n",
       "    .dataframe tbody tr th:only-of-type {\n",
       "        vertical-align: middle;\n",
       "    }\n",
       "\n",
       "    .dataframe tbody tr th {\n",
       "        vertical-align: top;\n",
       "    }\n",
       "\n",
       "    .dataframe thead th {\n",
       "        text-align: right;\n",
       "    }\n",
       "</style>\n",
       "<table border=\"1\" class=\"dataframe\">\n",
       "  <thead>\n",
       "    <tr style=\"text-align: right;\">\n",
       "      <th></th>\n",
       "      <th>ID</th>\n",
       "      <th>Marital Status</th>\n",
       "      <th>Gender</th>\n",
       "      <th>Income</th>\n",
       "      <th>Children</th>\n",
       "      <th>Education</th>\n",
       "      <th>Occupation</th>\n",
       "      <th>Home Owner</th>\n",
       "      <th>Cars</th>\n",
       "      <th>Commute Distance</th>\n",
       "      <th>Region</th>\n",
       "      <th>Age</th>\n",
       "      <th>Purchased Bike</th>\n",
       "    </tr>\n",
       "  </thead>\n",
       "  <tbody>\n",
       "    <tr>\n",
       "      <th>0</th>\n",
       "      <td>12496</td>\n",
       "      <td>Married</td>\n",
       "      <td>Female</td>\n",
       "      <td>40000.0</td>\n",
       "      <td>1.0</td>\n",
       "      <td>Bachelors</td>\n",
       "      <td>Skilled Manual</td>\n",
       "      <td>Yes</td>\n",
       "      <td>0.0</td>\n",
       "      <td>0-1 Miles</td>\n",
       "      <td>Europe</td>\n",
       "      <td>42.0</td>\n",
       "      <td>No</td>\n",
       "    </tr>\n",
       "    <tr>\n",
       "      <th>1</th>\n",
       "      <td>24107</td>\n",
       "      <td>Married</td>\n",
       "      <td>Male</td>\n",
       "      <td>30000.0</td>\n",
       "      <td>3.0</td>\n",
       "      <td>Partial College</td>\n",
       "      <td>Clerical</td>\n",
       "      <td>Yes</td>\n",
       "      <td>1.0</td>\n",
       "      <td>0-1 Miles</td>\n",
       "      <td>Europe</td>\n",
       "      <td>43.0</td>\n",
       "      <td>No</td>\n",
       "    </tr>\n",
       "    <tr>\n",
       "      <th>2</th>\n",
       "      <td>14177</td>\n",
       "      <td>Married</td>\n",
       "      <td>Male</td>\n",
       "      <td>80000.0</td>\n",
       "      <td>5.0</td>\n",
       "      <td>Partial College</td>\n",
       "      <td>Professional</td>\n",
       "      <td>No</td>\n",
       "      <td>2.0</td>\n",
       "      <td>2-5 Miles</td>\n",
       "      <td>Europe</td>\n",
       "      <td>60.0</td>\n",
       "      <td>No</td>\n",
       "    </tr>\n",
       "    <tr>\n",
       "      <th>3</th>\n",
       "      <td>24381</td>\n",
       "      <td>Single</td>\n",
       "      <td>Male</td>\n",
       "      <td>70000.0</td>\n",
       "      <td>0.0</td>\n",
       "      <td>Bachelors</td>\n",
       "      <td>Professional</td>\n",
       "      <td>Yes</td>\n",
       "      <td>1.0</td>\n",
       "      <td>5-10 Miles</td>\n",
       "      <td>Pacific</td>\n",
       "      <td>41.0</td>\n",
       "      <td>Yes</td>\n",
       "    </tr>\n",
       "    <tr>\n",
       "      <th>4</th>\n",
       "      <td>25597</td>\n",
       "      <td>Single</td>\n",
       "      <td>Male</td>\n",
       "      <td>30000.0</td>\n",
       "      <td>0.0</td>\n",
       "      <td>Bachelors</td>\n",
       "      <td>Clerical</td>\n",
       "      <td>No</td>\n",
       "      <td>0.0</td>\n",
       "      <td>0-1 Miles</td>\n",
       "      <td>Europe</td>\n",
       "      <td>36.0</td>\n",
       "      <td>Yes</td>\n",
       "    </tr>\n",
       "  </tbody>\n",
       "</table>\n",
       "</div>"
      ],
      "text/plain": [
       "      ID Marital Status  Gender   Income  Children        Education  \\\n",
       "0  12496        Married  Female  40000.0       1.0        Bachelors   \n",
       "1  24107        Married    Male  30000.0       3.0  Partial College   \n",
       "2  14177        Married    Male  80000.0       5.0  Partial College   \n",
       "3  24381         Single    Male  70000.0       0.0        Bachelors   \n",
       "4  25597         Single    Male  30000.0       0.0        Bachelors   \n",
       "\n",
       "       Occupation Home Owner  Cars Commute Distance   Region   Age  \\\n",
       "0  Skilled Manual        Yes   0.0        0-1 Miles   Europe  42.0   \n",
       "1        Clerical        Yes   1.0        0-1 Miles   Europe  43.0   \n",
       "2    Professional         No   2.0        2-5 Miles   Europe  60.0   \n",
       "3    Professional        Yes   1.0       5-10 Miles  Pacific  41.0   \n",
       "4        Clerical         No   0.0        0-1 Miles   Europe  36.0   \n",
       "\n",
       "  Purchased Bike  \n",
       "0             No  \n",
       "1             No  \n",
       "2             No  \n",
       "3            Yes  \n",
       "4            Yes  "
      ]
     },
     "execution_count": 8,
     "metadata": {},
     "output_type": "execute_result"
    }
   ],
   "source": [
    "bikeBuyers = bikeBuyers.fillna({'Marital Status': 'Single','Gender' : 'Male','Income' : bikeBuyers['Income'].mean(),\n",
    "                               'Children' : bikeBuyers['Children'].median(), 'Home Owner' :'Yes', \n",
    "                                'Cars' : bikeBuyers['Cars'].median(),'Age': bikeBuyers['Age'].mean()})\n",
    "bikeBuyers.head()\n"
   ]
  },
  {
   "cell_type": "code",
   "execution_count": 9,
   "id": "97299b30",
   "metadata": {
    "execution": {
     "iopub.execute_input": "2022-08-26T17:33:16.986020Z",
     "iopub.status.busy": "2022-08-26T17:33:16.984960Z",
     "iopub.status.idle": "2022-08-26T17:33:16.996427Z",
     "shell.execute_reply": "2022-08-26T17:33:16.995594Z"
    },
    "papermill": {
     "duration": 0.024018,
     "end_time": "2022-08-26T17:33:16.999834",
     "exception": false,
     "start_time": "2022-08-26T17:33:16.975816",
     "status": "completed"
    },
    "tags": []
   },
   "outputs": [
    {
     "data": {
      "text/plain": [
       "ID                  0\n",
       "Marital Status      0\n",
       "Gender              0\n",
       "Income              0\n",
       "Children            0\n",
       "Education           0\n",
       "Occupation          0\n",
       "Home Owner          0\n",
       "Cars                0\n",
       "Commute Distance    0\n",
       "Region              0\n",
       "Age                 0\n",
       "Purchased Bike      0\n",
       "dtype: int64"
      ]
     },
     "execution_count": 9,
     "metadata": {},
     "output_type": "execute_result"
    }
   ],
   "source": [
    "bikeBuyers.isna().sum()"
   ]
  },
  {
   "cell_type": "markdown",
   "id": "f3057d84",
   "metadata": {
    "papermill": {
     "duration": 0.010238,
     "end_time": "2022-08-26T17:33:17.021330",
     "exception": false,
     "start_time": "2022-08-26T17:33:17.011092",
     "status": "completed"
    },
    "tags": []
   },
   "source": [
    "# Duplications"
   ]
  },
  {
   "cell_type": "code",
   "execution_count": 10,
   "id": "c9ac9a0b",
   "metadata": {
    "execution": {
     "iopub.execute_input": "2022-08-26T17:33:17.041742Z",
     "iopub.status.busy": "2022-08-26T17:33:17.041007Z",
     "iopub.status.idle": "2022-08-26T17:33:17.055431Z",
     "shell.execute_reply": "2022-08-26T17:33:17.054460Z"
    },
    "papermill": {
     "duration": 0.026213,
     "end_time": "2022-08-26T17:33:17.057964",
     "exception": false,
     "start_time": "2022-08-26T17:33:17.031751",
     "status": "completed"
    },
    "tags": []
   },
   "outputs": [
    {
     "data": {
      "text/plain": [
       "0"
      ]
     },
     "execution_count": 10,
     "metadata": {},
     "output_type": "execute_result"
    }
   ],
   "source": [
    "bikeBuyers.duplicated().sum()"
   ]
  },
  {
   "cell_type": "markdown",
   "id": "dbfe1750",
   "metadata": {
    "papermill": {
     "duration": 0.007822,
     "end_time": "2022-08-26T17:33:17.073946",
     "exception": false,
     "start_time": "2022-08-26T17:33:17.066124",
     "status": "completed"
    },
    "tags": []
   },
   "source": [
    "# Outliers"
   ]
  },
  {
   "cell_type": "code",
   "execution_count": 11,
   "id": "cb56bdcb",
   "metadata": {
    "execution": {
     "iopub.execute_input": "2022-08-26T17:33:17.092732Z",
     "iopub.status.busy": "2022-08-26T17:33:17.091850Z",
     "iopub.status.idle": "2022-08-26T17:33:17.124620Z",
     "shell.execute_reply": "2022-08-26T17:33:17.123682Z"
    },
    "papermill": {
     "duration": 0.044316,
     "end_time": "2022-08-26T17:33:17.126994",
     "exception": false,
     "start_time": "2022-08-26T17:33:17.082678",
     "status": "completed"
    },
    "tags": []
   },
   "outputs": [
    {
     "data": {
      "text/html": [
       "<div>\n",
       "<style scoped>\n",
       "    .dataframe tbody tr th:only-of-type {\n",
       "        vertical-align: middle;\n",
       "    }\n",
       "\n",
       "    .dataframe tbody tr th {\n",
       "        vertical-align: top;\n",
       "    }\n",
       "\n",
       "    .dataframe thead th {\n",
       "        text-align: right;\n",
       "    }\n",
       "</style>\n",
       "<table border=\"1\" class=\"dataframe\">\n",
       "  <thead>\n",
       "    <tr style=\"text-align: right;\">\n",
       "      <th></th>\n",
       "      <th>ID</th>\n",
       "      <th>Income</th>\n",
       "      <th>Children</th>\n",
       "      <th>Cars</th>\n",
       "      <th>Age</th>\n",
       "    </tr>\n",
       "  </thead>\n",
       "  <tbody>\n",
       "    <tr>\n",
       "      <th>count</th>\n",
       "      <td>1000.000000</td>\n",
       "      <td>1000.000000</td>\n",
       "      <td>1000.000000</td>\n",
       "      <td>1000.000000</td>\n",
       "      <td>1000.000000</td>\n",
       "    </tr>\n",
       "    <tr>\n",
       "      <th>mean</th>\n",
       "      <td>19965.992000</td>\n",
       "      <td>56267.605634</td>\n",
       "      <td>1.911000</td>\n",
       "      <td>1.451000</td>\n",
       "      <td>44.181452</td>\n",
       "    </tr>\n",
       "    <tr>\n",
       "      <th>std</th>\n",
       "      <td>5347.333948</td>\n",
       "      <td>30974.380206</td>\n",
       "      <td>1.620403</td>\n",
       "      <td>1.117519</td>\n",
       "      <td>11.316422</td>\n",
       "    </tr>\n",
       "    <tr>\n",
       "      <th>min</th>\n",
       "      <td>11000.000000</td>\n",
       "      <td>10000.000000</td>\n",
       "      <td>0.000000</td>\n",
       "      <td>0.000000</td>\n",
       "      <td>25.000000</td>\n",
       "    </tr>\n",
       "    <tr>\n",
       "      <th>25%</th>\n",
       "      <td>15290.750000</td>\n",
       "      <td>30000.000000</td>\n",
       "      <td>0.000000</td>\n",
       "      <td>1.000000</td>\n",
       "      <td>35.000000</td>\n",
       "    </tr>\n",
       "    <tr>\n",
       "      <th>50%</th>\n",
       "      <td>19744.000000</td>\n",
       "      <td>60000.000000</td>\n",
       "      <td>2.000000</td>\n",
       "      <td>1.000000</td>\n",
       "      <td>43.000000</td>\n",
       "    </tr>\n",
       "    <tr>\n",
       "      <th>75%</th>\n",
       "      <td>24470.750000</td>\n",
       "      <td>70000.000000</td>\n",
       "      <td>3.000000</td>\n",
       "      <td>2.000000</td>\n",
       "      <td>52.000000</td>\n",
       "    </tr>\n",
       "    <tr>\n",
       "      <th>max</th>\n",
       "      <td>29447.000000</td>\n",
       "      <td>170000.000000</td>\n",
       "      <td>5.000000</td>\n",
       "      <td>4.000000</td>\n",
       "      <td>89.000000</td>\n",
       "    </tr>\n",
       "  </tbody>\n",
       "</table>\n",
       "</div>"
      ],
      "text/plain": [
       "                 ID         Income     Children         Cars          Age\n",
       "count   1000.000000    1000.000000  1000.000000  1000.000000  1000.000000\n",
       "mean   19965.992000   56267.605634     1.911000     1.451000    44.181452\n",
       "std     5347.333948   30974.380206     1.620403     1.117519    11.316422\n",
       "min    11000.000000   10000.000000     0.000000     0.000000    25.000000\n",
       "25%    15290.750000   30000.000000     0.000000     1.000000    35.000000\n",
       "50%    19744.000000   60000.000000     2.000000     1.000000    43.000000\n",
       "75%    24470.750000   70000.000000     3.000000     2.000000    52.000000\n",
       "max    29447.000000  170000.000000     5.000000     4.000000    89.000000"
      ]
     },
     "execution_count": 11,
     "metadata": {},
     "output_type": "execute_result"
    }
   ],
   "source": [
    "bikeBuyers.describe()"
   ]
  },
  {
   "cell_type": "code",
   "execution_count": 12,
   "id": "cdf638c7",
   "metadata": {
    "execution": {
     "iopub.execute_input": "2022-08-26T17:33:17.144573Z",
     "iopub.status.busy": "2022-08-26T17:33:17.143670Z",
     "iopub.status.idle": "2022-08-26T17:33:17.400419Z",
     "shell.execute_reply": "2022-08-26T17:33:17.398839Z"
    },
    "papermill": {
     "duration": 0.268804,
     "end_time": "2022-08-26T17:33:17.403272",
     "exception": false,
     "start_time": "2022-08-26T17:33:17.134468",
     "status": "completed"
    },
    "tags": []
   },
   "outputs": [
    {
     "data": {
      "image/png": "[encoded data removed]",
      "text/plain": [
       "<Figure size 432x288 with 1 Axes>"
      ]
     },
     "metadata": {
      "needs_background": "light"
     },
     "output_type": "display_data"
    }
   ],
   "source": [
    "def plot_boxplot(df, ft):\n",
    "    df.boxplot(column=[ft])\n",
    "    plt.grid(False)\n",
    "    plt.show()\n",
    "plot_boxplot(bikeBuyers,'Income') "
   ]
  },
  {
   "cell_type": "code",
   "execution_count": 13,
   "id": "9cbb49e0",
   "metadata": {
    "execution": {
     "iopub.execute_input": "2022-08-26T17:33:17.420942Z",
     "iopub.status.busy": "2022-08-26T17:33:17.420407Z",
     "iopub.status.idle": "2022-08-26T17:33:17.429138Z",
     "shell.execute_reply": "2022-08-26T17:33:17.427752Z"
    },
    "papermill": {
     "duration": 0.020732,
     "end_time": "2022-08-26T17:33:17.431808",
     "exception": false,
     "start_time": "2022-08-26T17:33:17.411076",
     "status": "completed"
    },
    "tags": []
   },
   "outputs": [],
   "source": [
    "def outliers(df, ft):\n",
    "    Q1=df[ft].quantile(0.25)\n",
    "    Q3=df[ft].quantile(0.75)\n",
    "    IQR=Q3-Q1\n",
    "    lower_boundary = Q1 - 1.5 * IQR\n",
    "    upper_boundary = Q3 + 1.5 * IQR\n",
    "    lst=df.index[(df[ft] < lower_boundary) | (df[ft] > upper_boundary)]\n",
    "    return lst"
   ]
  },
  {
   "cell_type": "code",
   "execution_count": 14,
   "id": "dce38230",
   "metadata": {
    "execution": {
     "iopub.execute_input": "2022-08-26T17:33:17.452502Z",
     "iopub.status.busy": "2022-08-26T17:33:17.451209Z",
     "iopub.status.idle": "2022-08-26T17:33:17.461168Z",
     "shell.execute_reply": "2022-08-26T17:33:17.459991Z"
    },
    "papermill": {
     "duration": 0.022822,
     "end_time": "2022-08-26T17:33:17.463890",
     "exception": false,
     "start_time": "2022-08-26T17:33:17.441068",
     "status": "completed"
    },
    "tags": []
   },
   "outputs": [],
   "source": [
    "outlierList=[]\n",
    "for ft in ['Income']:\n",
    "    outlierList.extend(outliers(bikeBuyers,ft))"
   ]
  },
  {
   "cell_type": "code",
   "execution_count": 15,
   "id": "d6af0db1",
   "metadata": {
    "execution": {
     "iopub.execute_input": "2022-08-26T17:33:17.483330Z",
     "iopub.status.busy": "2022-08-26T17:33:17.482476Z",
     "iopub.status.idle": "2022-08-26T17:33:17.487657Z",
     "shell.execute_reply": "2022-08-26T17:33:17.486853Z"
    },
    "papermill": {
     "duration": 0.017332,
     "end_time": "2022-08-26T17:33:17.490101",
     "exception": false,
     "start_time": "2022-08-26T17:33:17.472769",
     "status": "completed"
    },
    "tags": []
   },
   "outputs": [
    {
     "name": "stdout",
     "output_type": "stream",
     "text": [
      "[6, 12, 43, 121, 178, 259, 321, 356, 829, 993]\n",
      "\n",
      "total number of outliers in four columns = 10\n"
     ]
    }
   ],
   "source": [
    "outlierList=sorted(set(outlierList))\n",
    "print(outlierList)\n",
    "print(\"\\ntotal number of outliers in four columns =\",len(outlierList))"
   ]
  },
  {
   "cell_type": "code",
   "execution_count": 16,
   "id": "73ea09e4",
   "metadata": {
    "execution": {
     "iopub.execute_input": "2022-08-26T17:33:17.510208Z",
     "iopub.status.busy": "2022-08-26T17:33:17.509539Z",
     "iopub.status.idle": "2022-08-26T17:33:17.516661Z",
     "shell.execute_reply": "2022-08-26T17:33:17.515825Z"
    },
    "papermill": {
     "duration": 0.019693,
     "end_time": "2022-08-26T17:33:17.519077",
     "exception": false,
     "start_time": "2022-08-26T17:33:17.499384",
     "status": "completed"
    },
    "tags": []
   },
   "outputs": [
    {
     "data": {
      "text/plain": [
       "(990, 13)"
      ]
     },
     "execution_count": 16,
     "metadata": {},
     "output_type": "execute_result"
    }
   ],
   "source": [
    "bikeBuyers = bikeBuyers.drop(outlierList)\n",
    "bikeBuyers.shape"
   ]
  },
  {
   "cell_type": "code",
   "execution_count": 17,
   "id": "ba8c718f",
   "metadata": {
    "execution": {
     "iopub.execute_input": "2022-08-26T17:33:17.538753Z",
     "iopub.status.busy": "2022-08-26T17:33:17.538071Z",
     "iopub.status.idle": "2022-08-26T17:33:17.714420Z",
     "shell.execute_reply": "2022-08-26T17:33:17.712864Z"
    },
    "papermill": {
     "duration": 0.188918,
     "end_time": "2022-08-26T17:33:17.717087",
     "exception": false,
     "start_time": "2022-08-26T17:33:17.528169",
     "status": "completed"
    },
    "tags": []
   },
   "outputs": [
    {
     "data": {
      "image/png": "[encoded data removed]",
      "text/plain": [
       "<Figure size 432x288 with 1 Axes>"
      ]
     },
     "metadata": {
      "needs_background": "light"
     },
     "output_type": "display_data"
    }
   ],
   "source": [
    "plot_boxplot(bikeBuyers,'Income') "
   ]
  },
  {
   "cell_type": "markdown",
   "id": "7687ac05",
   "metadata": {
    "papermill": {
     "duration": 0.007651,
     "end_time": "2022-08-26T17:33:17.733001",
     "exception": false,
     "start_time": "2022-08-26T17:33:17.725350",
     "status": "completed"
    },
    "tags": []
   },
   "source": [
    "# Categorical Data"
   ]
  },
  {
   "cell_type": "code",
   "execution_count": 18,
   "id": "2a4c1a06",
   "metadata": {
    "execution": {
     "iopub.execute_input": "2022-08-26T17:33:17.752591Z",
     "iopub.status.busy": "2022-08-26T17:33:17.751308Z",
     "iopub.status.idle": "2022-08-26T17:33:17.761043Z",
     "shell.execute_reply": "2022-08-26T17:33:17.759877Z"
    },
    "papermill": {
     "duration": 0.022082,
     "end_time": "2022-08-26T17:33:17.763704",
     "exception": false,
     "start_time": "2022-08-26T17:33:17.741622",
     "status": "completed"
    },
    "tags": []
   },
   "outputs": [],
   "source": [
    "bikeBuyers['Marital Status'].unique()\n",
    "bikeBuyers['Marital Status'].replace(to_replace='Married', value=0, inplace=True)\n",
    "bikeBuyers['Marital Status'].replace(to_replace='Single', value=1, inplace=True)"
   ]
  },
  {
   "cell_type": "code",
   "execution_count": 19,
   "id": "bbb58936",
   "metadata": {
    "execution": {
     "iopub.execute_input": "2022-08-26T17:33:17.783628Z",
     "iopub.status.busy": "2022-08-26T17:33:17.782197Z",
     "iopub.status.idle": "2022-08-26T17:33:17.792771Z",
     "shell.execute_reply": "2022-08-26T17:33:17.791074Z"
    },
    "papermill": {
     "duration": 0.023147,
     "end_time": "2022-08-26T17:33:17.795428",
     "exception": false,
     "start_time": "2022-08-26T17:33:17.772281",
     "status": "completed"
    },
    "tags": []
   },
   "outputs": [],
   "source": [
    "bikeBuyers['Gender'].unique()\n",
    "bikeBuyers['Gender'].replace(to_replace='Male', value=0, inplace=True)\n",
    "bikeBuyers['Gender'].replace(to_replace='Female', value=1, inplace=True)"
   ]
  },
  {
   "cell_type": "code",
   "execution_count": 20,
   "id": "dff0c43a",
   "metadata": {
    "execution": {
     "iopub.execute_input": "2022-08-26T17:33:17.814617Z",
     "iopub.status.busy": "2022-08-26T17:33:17.813224Z",
     "iopub.status.idle": "2022-08-26T17:33:17.851092Z",
     "shell.execute_reply": "2022-08-26T17:33:17.849787Z"
    },
    "papermill": {
     "duration": 0.050012,
     "end_time": "2022-08-26T17:33:17.853677",
     "exception": false,
     "start_time": "2022-08-26T17:33:17.803665",
     "status": "completed"
    },
    "tags": []
   },
   "outputs": [
    {
     "data": {
      "text/html": [
       "<div>\n",
       "<style scoped>\n",
       "    .dataframe tbody tr th:only-of-type {\n",
       "        vertical-align: middle;\n",
       "    }\n",
       "\n",
       "    .dataframe tbody tr th {\n",
       "        vertical-align: top;\n",
       "    }\n",
       "\n",
       "    .dataframe thead th {\n",
       "        text-align: right;\n",
       "    }\n",
       "</style>\n",
       "<table border=\"1\" class=\"dataframe\">\n",
       "  <thead>\n",
       "    <tr style=\"text-align: right;\">\n",
       "      <th></th>\n",
       "      <th>ID</th>\n",
       "      <th>Marital Status</th>\n",
       "      <th>Gender</th>\n",
       "      <th>Income</th>\n",
       "      <th>Children</th>\n",
       "      <th>Cars</th>\n",
       "      <th>Age</th>\n",
       "      <th>Education_Bachelors</th>\n",
       "      <th>Education_Graduate Degree</th>\n",
       "      <th>Education_High School</th>\n",
       "      <th>...</th>\n",
       "      <th>Commute Distance_0-1 Miles</th>\n",
       "      <th>Commute Distance_1-2 Miles</th>\n",
       "      <th>Commute Distance_10+ Miles</th>\n",
       "      <th>Commute Distance_2-5 Miles</th>\n",
       "      <th>Commute Distance_5-10 Miles</th>\n",
       "      <th>Region_Europe</th>\n",
       "      <th>Region_North America</th>\n",
       "      <th>Region_Pacific</th>\n",
       "      <th>Purchased Bike_No</th>\n",
       "      <th>Purchased Bike_Yes</th>\n",
       "    </tr>\n",
       "  </thead>\n",
       "  <tbody>\n",
       "    <tr>\n",
       "      <th>0</th>\n",
       "      <td>12496</td>\n",
       "      <td>0</td>\n",
       "      <td>1</td>\n",
       "      <td>40000.0</td>\n",
       "      <td>1.0</td>\n",
       "      <td>0.0</td>\n",
       "      <td>42.0</td>\n",
       "      <td>1</td>\n",
       "      <td>0</td>\n",
       "      <td>0</td>\n",
       "      <td>...</td>\n",
       "      <td>1</td>\n",
       "      <td>0</td>\n",
       "      <td>0</td>\n",
       "      <td>0</td>\n",
       "      <td>0</td>\n",
       "      <td>1</td>\n",
       "      <td>0</td>\n",
       "      <td>0</td>\n",
       "      <td>1</td>\n",
       "      <td>0</td>\n",
       "    </tr>\n",
       "    <tr>\n",
       "      <th>1</th>\n",
       "      <td>24107</td>\n",
       "      <td>0</td>\n",
       "      <td>0</td>\n",
       "      <td>30000.0</td>\n",
       "      <td>3.0</td>\n",
       "      <td>1.0</td>\n",
       "      <td>43.0</td>\n",
       "      <td>0</td>\n",
       "      <td>0</td>\n",
       "      <td>0</td>\n",
       "      <td>...</td>\n",
       "      <td>1</td>\n",
       "      <td>0</td>\n",
       "      <td>0</td>\n",
       "      <td>0</td>\n",
       "      <td>0</td>\n",
       "      <td>1</td>\n",
       "      <td>0</td>\n",
       "      <td>0</td>\n",
       "      <td>1</td>\n",
       "      <td>0</td>\n",
       "    </tr>\n",
       "    <tr>\n",
       "      <th>2</th>\n",
       "      <td>14177</td>\n",
       "      <td>0</td>\n",
       "      <td>0</td>\n",
       "      <td>80000.0</td>\n",
       "      <td>5.0</td>\n",
       "      <td>2.0</td>\n",
       "      <td>60.0</td>\n",
       "      <td>0</td>\n",
       "      <td>0</td>\n",
       "      <td>0</td>\n",
       "      <td>...</td>\n",
       "      <td>0</td>\n",
       "      <td>0</td>\n",
       "      <td>0</td>\n",
       "      <td>1</td>\n",
       "      <td>0</td>\n",
       "      <td>1</td>\n",
       "      <td>0</td>\n",
       "      <td>0</td>\n",
       "      <td>1</td>\n",
       "      <td>0</td>\n",
       "    </tr>\n",
       "    <tr>\n",
       "      <th>3</th>\n",
       "      <td>24381</td>\n",
       "      <td>1</td>\n",
       "      <td>0</td>\n",
       "      <td>70000.0</td>\n",
       "      <td>0.0</td>\n",
       "      <td>1.0</td>\n",
       "      <td>41.0</td>\n",
       "      <td>1</td>\n",
       "      <td>0</td>\n",
       "      <td>0</td>\n",
       "      <td>...</td>\n",
       "      <td>0</td>\n",
       "      <td>0</td>\n",
       "      <td>0</td>\n",
       "      <td>0</td>\n",
       "      <td>1</td>\n",
       "      <td>0</td>\n",
       "      <td>0</td>\n",
       "      <td>1</td>\n",
       "      <td>0</td>\n",
       "      <td>1</td>\n",
       "    </tr>\n",
       "    <tr>\n",
       "      <th>4</th>\n",
       "      <td>25597</td>\n",
       "      <td>1</td>\n",
       "      <td>0</td>\n",
       "      <td>30000.0</td>\n",
       "      <td>0.0</td>\n",
       "      <td>0.0</td>\n",
       "      <td>36.0</td>\n",
       "      <td>1</td>\n",
       "      <td>0</td>\n",
       "      <td>0</td>\n",
       "      <td>...</td>\n",
       "      <td>1</td>\n",
       "      <td>0</td>\n",
       "      <td>0</td>\n",
       "      <td>0</td>\n",
       "      <td>0</td>\n",
       "      <td>1</td>\n",
       "      <td>0</td>\n",
       "      <td>0</td>\n",
       "      <td>0</td>\n",
       "      <td>1</td>\n",
       "    </tr>\n",
       "  </tbody>\n",
       "</table>\n",
       "<p>5 rows × 29 columns</p>\n",
       "</div>"
      ],
      "text/plain": [
       "      ID  Marital Status  Gender   Income  Children  Cars   Age  \\\n",
       "0  12496               0       1  40000.0       1.0   0.0  42.0   \n",
       "1  24107               0       0  30000.0       3.0   1.0  43.0   \n",
       "2  14177               0       0  80000.0       5.0   2.0  60.0   \n",
       "3  24381               1       0  70000.0       0.0   1.0  41.0   \n",
       "4  25597               1       0  30000.0       0.0   0.0  36.0   \n",
       "\n",
       "   Education_Bachelors  Education_Graduate Degree  Education_High School  ...  \\\n",
       "0                    1                          0                      0  ...   \n",
       "1                    0                          0                      0  ...   \n",
       "2                    0                          0                      0  ...   \n",
       "3                    1                          0                      0  ...   \n",
       "4                    1                          0                      0  ...   \n",
       "\n",
       "   Commute Distance_0-1 Miles  Commute Distance_1-2 Miles  \\\n",
       "0                           1                           0   \n",
       "1                           1                           0   \n",
       "2                           0                           0   \n",
       "3                           0                           0   \n",
       "4                           1                           0   \n",
       "\n",
       "   Commute Distance_10+ Miles  Commute Distance_2-5 Miles  \\\n",
       "0                           0                           0   \n",
       "1                           0                           0   \n",
       "2                           0                           1   \n",
       "3                           0                           0   \n",
       "4                           0                           0   \n",
       "\n",
       "   Commute Distance_5-10 Miles  Region_Europe  Region_North America  \\\n",
       "0                            0              1                     0   \n",
       "1                            0              1                     0   \n",
       "2                            0              1                     0   \n",
       "3                            1              0                     0   \n",
       "4                            0              1                     0   \n",
       "\n",
       "   Region_Pacific  Purchased Bike_No  Purchased Bike_Yes  \n",
       "0               0                  1                   0  \n",
       "1               0                  1                   0  \n",
       "2               0                  1                   0  \n",
       "3               1                  0                   1  \n",
       "4               0                  0                   1  \n",
       "\n",
       "[5 rows x 29 columns]"
      ]
     },
     "execution_count": 20,
     "metadata": {},
     "output_type": "execute_result"
    }
   ],
   "source": [
    "bikeBuyers = pd.get_dummies(bikeBuyers)\n",
    "bikeBuyers.head()"
   ]
  }
 ],
 "metadata": {
  "kernelspec": {
   "display_name": "Python 3",
   "language": "python",
   "name": "python3"
  },
  "language_info": {
   "codemirror_mode": {
    "name": "ipython",
    "version": 3
   },
   "file_extension": ".py",
   "mimetype": "text/x-python",
   "name": "python",
   "nbconvert_exporter": "python",
   "pygments_lexer": "ipython3",
   "version": "3.7.12"
  },
  "papermill": {
   "default_parameters": {},
   "duration": 12.416695,
   "end_time": "2022-08-26T17:33:18.788466",
   "environment_variables": {},
   "exception": null,
   "input_path": "__notebook__.ipynb",
   "output_path": "__notebook__.ipynb",
   "parameters": {},
   "start_time": "2022-08-26T17:33:06.371771",
   "version": "2.3.4"
  }
 },
 "nbformat": 4,
 "nbformat_minor": 5
}
